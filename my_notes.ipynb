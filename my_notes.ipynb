{
 "cells": [
  {
   "cell_type": "code",
   "execution_count": 2,
   "metadata": {
    "editable": true
   },
   "outputs": [],
   "source": [
    "import psycopg2"
   ]
  },
  {
   "cell_type": "code",
   "execution_count": 3,
   "metadata": {
    "editable": true
   },
   "outputs": [],
   "source": [
    "import pandas as pd"
   ]
  },
  {
   "cell_type": "code",
   "execution_count": 4,
   "metadata": {
    "editable": true
   },
   "outputs": [],
   "source": [
    "import json"
   ]
  },
  {
   "cell_type": "markdown",
   "metadata": {
    "editable": true
   },
   "source": [
    "## TODO\n",
    "\n",
    "1. Write CREATE statements in sql_queries.py to create each table.\n",
    "2. Write DROP statements in sql_queries.py to drop each table if it exists.\n",
    "3. Run create_tables.py to create your database and tables.\n",
    "4. Run test.ipynb to confirm the creation of your tables with the correct columns. \n",
    "    Make sure to click \"Restart kernel\" to close the connection to the database after running this notebook\n",
    "    \n",
    "## Song dataset\n",
    "song_data/A/B/C/TRABCEI128F424C983.json\n",
    "song_data/A/A/B/TRAABJL12903CDCF1A.json\n",
    "\n",
    "TRAABJL12903CDCF1A.json\n",
    "\n",
    "{\"num_songs\": 1, \"artist_id\": \"ARJIE2Y1187B994AB7\", \"artist_latitude\": null, \"artist_longitude\": null, \"artist_location\": \"\", \"artist_name\": \"Line Renaud\", \"song_id\": \"SOUPIRU12A6D4FA1E1\", \"title\": \"Der Kleine Dompfaff\", \"duration\": 152.92036, \"year\": 0}\n",
    "\n",
    "num_songs\n",
    "artist_id\n",
    "artist_latitude\n",
    "artist_longitude\n",
    "artist_location\n",
    "artist_name\n",
    "song_id\n",
    "title\n",
    "duration\n",
    "year\n",
    "\n",
    "## Log dataset\n",
    "\n",
    "The log files in the dataset you'll be working with are partitioned by year and month.\n",
    "\n",
    "log_data/2018/11/2018-11-12-events.json\n",
    "log_data/2018/11/2018-11-13-events.json\n",
    "\n",
    "df = pd.read_json(filepath, lines=True)\n",
    "df = pd.read_json('data/log_data/2018/11/2018-11-01-events.json', lines=True)"
   ]
  },
  {
   "cell_type": "code",
   "execution_count": 5,
   "metadata": {
    "editable": true
   },
   "outputs": [],
   "source": [
    "df_logs = pd.read_json('data/log_data/2018/11/2018-11-01-events.json', lines=True)"
   ]
  },
  {
   "cell_type": "code",
   "execution_count": 6,
   "metadata": {
    "editable": true
   },
   "outputs": [
    {
     "output_type": "stream",
     "name": "stdout",
     "text": [
      "  artist       auth firstName gender  itemInSession lastName  length level  \\\n0   None  Logged In    Walter      M              0     Frye     NaN  free   \n\n                            location method  page   registration  sessionId  \\\n0  San Francisco-Oakland-Hayward, CA    GET  Home  1540919166796         38   \n\n   song  status             ts  \\\n0  None     200  1541105830796   \n\n                                           userAgent  userId  \n0  \"Mozilla/5.0 (Macintosh; Intel Mac OS X 10_9_4...      39  \n"
     ]
    }
   ],
   "source": [
    "print(df_logs.head(1))"
   ]
  },
  {
   "cell_type": "code",
   "execution_count": 8,
   "metadata": {
    "editable": true
   },
   "outputs": [
    {
     "output_type": "stream",
     "name": "stdout",
     "text": [
      "Index(['artist', 'auth', 'firstName', 'gender', 'itemInSession', 'lastName',\n       'length', 'level', 'location', 'method', 'page', 'registration',\n       'sessionId', 'song', 'status', 'ts', 'userAgent', 'userId'],\n      dtype='object')\n"
     ]
    }
   ],
   "source": [
    "print(df_logs.columns)"
   ]
  },
  {
   "cell_type": "code",
   "execution_count": 9,
   "metadata": {
    "editable": true
   },
   "outputs": [
    {
     "output_type": "display_data",
     "data": {
      "text/plain": "artist            object\nauth              object\nfirstName         object\ngender            object\nitemInSession      int64\nlastName          object\nlength           float64\nlevel             object\nlocation          object\nmethod            object\npage              object\nregistration       int64\nsessionId          int64\nsong              object\nstatus             int64\nts                 int64\nuserAgent         object\nuserId             int64\ndtype: object"
     },
     "metadata": {}
    }
   ],
   "source": [
    "display(df_logs.dtypes)"
   ]
  },
  {
   "cell_type": "code",
   "execution_count": 10,
   "metadata": {},
   "outputs": [],
   "source": [
    "df_songs = pd.read_json('data/song_data/A/A/A/TRAAAAW128F429D538.json', lines=True)"
   ]
  },
  {
   "cell_type": "code",
   "execution_count": 13,
   "metadata": {},
   "outputs": [
    {
     "output_type": "execute_result",
     "data": {
      "text/plain": [
       "   num_songs           artist_id  artist_latitude  artist_longitude  \\\n",
       "0          1  ARD7TVE1187B99BFB1              NaN               NaN   \n",
       "\n",
       "   artist_location artist_name             song_id             title  \\\n",
       "0  California - LA      Casual  SOMZWCG12A8C13C480  I Didn't Mean To   \n",
       "\n",
       "    duration  year  \n",
       "0  218.93179     0  "
      ],
      "text/html": "<div>\n<style scoped>\n    .dataframe tbody tr th:only-of-type {\n        vertical-align: middle;\n    }\n\n    .dataframe tbody tr th {\n        vertical-align: top;\n    }\n\n    .dataframe thead th {\n        text-align: right;\n    }\n</style>\n<table border=\"1\" class=\"dataframe\">\n  <thead>\n    <tr style=\"text-align: right;\">\n      <th></th>\n      <th>num_songs</th>\n      <th>artist_id</th>\n      <th>artist_latitude</th>\n      <th>artist_longitude</th>\n      <th>artist_location</th>\n      <th>artist_name</th>\n      <th>song_id</th>\n      <th>title</th>\n      <th>duration</th>\n      <th>year</th>\n    </tr>\n  </thead>\n  <tbody>\n    <tr>\n      <th>0</th>\n      <td>1</td>\n      <td>ARD7TVE1187B99BFB1</td>\n      <td>NaN</td>\n      <td>NaN</td>\n      <td>California - LA</td>\n      <td>Casual</td>\n      <td>SOMZWCG12A8C13C480</td>\n      <td>I Didn't Mean To</td>\n      <td>218.93179</td>\n      <td>0</td>\n    </tr>\n  </tbody>\n</table>\n</div>"
     },
     "metadata": {},
     "execution_count": 13
    }
   ],
   "source": [
    "df_songs.head(2)"
   ]
  },
  {
   "cell_type": "code",
   "execution_count": 11,
   "metadata": {},
   "outputs": [
    {
     "output_type": "execute_result",
     "data": {
      "text/plain": [
       "Index(['num_songs', 'artist_id', 'artist_latitude', 'artist_longitude',\n",
       "       'artist_location', 'artist_name', 'song_id', 'title', 'duration',\n",
       "       'year'],\n",
       "      dtype='object')"
      ]
     },
     "metadata": {},
     "execution_count": 11
    }
   ],
   "source": [
    "df_songs.columns"
   ]
  },
  {
   "cell_type": "code",
   "execution_count": 12,
   "metadata": {},
   "outputs": [
    {
     "output_type": "execute_result",
     "data": {
      "text/plain": [
       "num_songs             int64\n",
       "artist_id            object\n",
       "artist_latitude     float64\n",
       "artist_longitude    float64\n",
       "artist_location      object\n",
       "artist_name          object\n",
       "song_id              object\n",
       "title                object\n",
       "duration            float64\n",
       "year                  int64\n",
       "dtype: object"
      ]
     },
     "metadata": {},
     "execution_count": 12
    }
   ],
   "source": [
    "df_songs.dtypes"
   ]
  },
  {
   "cell_type": "code",
   "execution_count": null,
   "metadata": {},
   "outputs": [],
   "source": []
  },
  {
   "cell_type": "code",
   "execution_count": null,
   "metadata": {
    "editable": true
   },
   "outputs": [],
   "source": []
  }
 ],
 "metadata": {
  "kernelspec": {
   "name": "python3",
   "display_name": "Python 3.8.5 64-bit"
  },
  "language_info": {
   "codemirror_mode": {
    "name": "ipython",
    "version": 3
   },
   "file_extension": ".py",
   "mimetype": "text/x-python",
   "name": "python",
   "nbconvert_exporter": "python",
   "pygments_lexer": "ipython3",
   "version": "3.8.5"
  },
  "interpreter": {
   "hash": "2db524e06e9f5f4ffedc911c917cb75e12dbc923643829bf417064a77eb14d37"
  }
 },
 "nbformat": 4,
 "nbformat_minor": 4
}